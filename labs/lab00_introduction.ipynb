{
  "nbformat": 4,
  "nbformat_minor": 0,
  "metadata": {
    "colab": {
      "provenance": [],
      "authorship_tag": "ABX9TyMd2LlEbamxUzyPRaJkdC1t",
      "include_colab_link": true
    },
    "kernelspec": {
      "name": "python3",
      "display_name": "Python 3"
    },
    "language_info": {
      "name": "python"
    }
  },
  "cells": [
    {
      "cell_type": "markdown",
      "metadata": {
        "id": "view-in-github",
        "colab_type": "text"
      },
      "source": [
        "<a href=\"https://colab.research.google.com/github/Hamilton-at-CapU/comp215/blob/main/labs/lab00_introduction.ipynb\" target=\"_parent\"><img src=\"https://colab.research.google.com/assets/colab-badge.svg\" alt=\"Open In Colab\"/></a>"
      ]
    },
    {
      "cell_type": "markdown",
      "source": [
        "COMP 215 - LAB 0  \n",
        "----------------\n",
        "#### Name:\n",
        "#### Date:\n",
        "\n",
        "\n",
        "By the end of this lab you should be familiar with how to write Python code using Google Colaboratory (Colab) then save and share the code in GitHub on eLearn.\n"
      ],
      "metadata": {
        "id": "pOyyAVje7cBQ"
      }
    },
    {
      "cell_type": "markdown",
      "source": [
        "## GitHub\n",
        "\n",
        "GitHub is a code “repository” where many professional programmers keep their software projects, especially for open-source projects. It runs the “git” version control system to track all changes made to a project over time. Colab and GitHub play (relatively) nicely together, so this is a perfect opportunity to start using GitHub, and start building your own portfolio of code projects.  To start, watch this [What is GitHub?](https://www.youtube.com/watch?v=pBy1zgt0XPc) video.\n",
        "\n",
        "\n",
        "\n",
        "1.   If you don't already have one, get a GitHub account by going to [github.com](github.com) to create an account.  Remember this account might be a long-term prospect, so choose your username thinking about the future.\n",
        "\n",
        "2.   Complete the [GitHub 'Hello World' tutorial](https://docs.github.com/en/get-started/start-your-journey/hello-world).  This will introduce you to the basic ideas of GitHub.  For this course, you will *fork* (ie. make a copy of) the *main branch* (ie. current version) of the `comp215` *repository* (ie. files and folders of code).  You will complete all your work in your *fork*.  You will **not** need to do a *pull request* to *merge* your changes because you will be submitting work in your *fork*.  After completing the GitHub 'Hello World' tutorial, you should understand the italicized words.    \n",
        "\n",
        "3. In your GitHub account, fork the `comp215` repo: [https://github.com/Hamilton-at-CapU/comp215/](https://github.com/Hamilton-at-CapU/comp215).  This is now your personal copy you can edit and make changes to.  You will be using this fork to submit your code in this course.\n",
        "\n",
        "4. In your `comp215` fork, go to `labs` folder and open `lab00_introduction.ipynb`.  Open the file in Google Colaboratory using the [![Open In Colab](https://colab.research.google.com/assets/colab-badge.svg)](https://colab.research.google.com/github/Hamilton-at-CapU/comp215/blob/main/labs/lab00_introduction.ipynb) button at the top of the file. Continue with the rest of this lab in Colab.  You will need to log into your Google account to use Colab.  If you do not already have one, or do not want to use your personal Google account for this course, then please create a Google account specifically for this course.\n",
        "\n"
      ],
      "metadata": {
        "id": "MbrT5o5EJ9V9"
      }
    },
    {
      "cell_type": "markdown",
      "source": [
        "## Google Colaboratory\n",
        "\n",
        "*You will need a Google gmail account to access and use Colab.  You can use your personal gmail account, or you can create a gmail account just for this class.*\n",
        "\n",
        "Accroding to the Google AI Overview;\n",
        "  *  *Google Colaboratory (Colab), is a free, cloud-based environment for writing and running Python code in a browser. It's a popular tool in the data science and machine learning communities for tasks that require a lot of computing power, such as: Analyzing large amounts of data, Training machine learning models, and Testing deep learning algorithms.*  \n",
        "\n",
        "Colab is an online interactive Python notebook environment.  An interactive notebook is a programming environment that allows you to interlace code, formatted text, data, and graphical output all in a single document. These notebooks are easy to distribute on the web and can be viewed and executed without any additional software installation or configuration, making them an ideal platform for sharing research and analysis. They are widely used in scientific computing and in data science applications where the emphasis is on using code to clearly communicate rather than building an end-user app.  Interactive Python notebooks use the file extension `.ipynb` instead of `.py`.  \n",
        "\n",
        "You can find more information about Jupyter Notebooks at [jupyter.org](https://jupyter.org/).  Note that you do not need to install Jupyter on your computer because we are using Colab.  In a notebook you write the code in Python and the text Markdown.  You can find more information about the Markdown language at [markdownguide.org](https://www.markdownguide.org).  We will be using Colab in this course as the default (but not required) Integrated Development Environment (IDE) for you to write and run Python code.  \n",
        "\n"
      ],
      "metadata": {
        "id": "4QIdt5aV7sF9"
      }
    },
    {
      "cell_type": "markdown",
      "source": [
        "#### Code Blocks\n",
        "\n",
        "Below is a code block.  Write a 'hello world' print statement in the code block and run it."
      ],
      "metadata": {
        "id": "RZZqUelwFnJK"
      }
    },
    {
      "cell_type": "code",
      "source": [
        "# This is a code block.\n"
      ],
      "metadata": {
        "id": "FplkLRHd7l87"
      },
      "execution_count": null,
      "outputs": []
    },
    {
      "cell_type": "markdown",
      "source": [
        "#### Text Blocks\n",
        "\n",
        "Below is a text block.  Write 'hello world' in the text block in bold-italic font.\n"
      ],
      "metadata": {
        "id": "HyMeaa4_F4rL"
      }
    },
    {
      "cell_type": "markdown",
      "source": [
        "This is a text block.\n"
      ],
      "metadata": {
        "id": "dJxi9-mJGkjg"
      }
    },
    {
      "cell_type": "markdown",
      "source": [
        "## Commit your changes to GitHub and submit a link on eLearn\n",
        "\n",
        " - Now that you have edited the Colab file, it's time to `commit` (ie. save) the changes to your GitHub repo.  Click the `Save in GitHub to keep changes` in the Colab menu bar to save your changes to your GitHub repo.\n",
        " - A window will pop up, allowing you to select which repo, branch, and file path to commit it to (the defaults should be correct), as well as enter a `Commit message`.  This `Commit message` appears in GitHub beside the filename; it is meant to be a short reminder of what you last changed in the file.  So, something like 'first commit' would make sense for this one.  There is also an `Include a link to Colab` tick box, please select it so that I can easily open your code from GitHub.  \n",
        " -"
      ],
      "metadata": {
        "id": "PC3_SJ9utWtU"
      }
    }
  ]
}